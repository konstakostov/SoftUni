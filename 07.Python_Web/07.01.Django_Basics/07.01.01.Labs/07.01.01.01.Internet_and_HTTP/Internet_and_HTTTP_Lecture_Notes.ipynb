{
 "cells": [
  {
   "metadata": {},
   "cell_type": "markdown",
   "source": "# Internet & HTTP",
   "id": "41340c98fdbecfd1"
  },
  {
   "metadata": {},
   "cell_type": "markdown",
   "source": [
    "## What is the Internet?\n",
    "\n",
    "* Vast network, connecting devices all around the world;\n",
    "* Connection is realized with fiber optics, copper, satellites, cell towers, etc.; \n",
    "* The connection is indirect, via ISP (Internet Service Provider)."
   ],
   "id": "c73320ef0b3b8bb9"
  },
  {
   "metadata": {},
   "cell_type": "markdown",
   "source": [
    "## Networks & Internet\n",
    "\n",
    "* Network -> Group of two or more devices that can communicate;\n",
    "* The internet consists of multiple networks;\n",
    "* Multiple systems connect/communicate to each other and work together."
   ],
   "id": "b582221e24d2fecc"
  },
  {
   "metadata": {},
   "cell_type": "markdown",
   "source": [
    "## Web Server Work Model\n",
    "\n"
   ],
   "id": "72c9b7b4d56c53dd"
  },
  {
   "metadata": {},
   "cell_type": "markdown",
   "source": [
    "## Definitions\n",
    "\n",
    "* Server: Machines, providing services to other machines;\n",
    "* Client: Machines, used to connect server-provided services;\n",
    "* Network Protocol: Standards (Rules), allowing communication between devices; The communicating devices can identify each other.\n",
    "    * TCP, IP, UDP, HTTP, SMTP, SSH, etc. are network protocols.\n",
    "* Packets: Stream of information, \"broken down\" into small chunks; Each packet contains *header* (Content, Origin, Destination), *body* (), *tail* ();"
   ],
   "id": "d87879d7011674ea"
  },
  {
   "metadata": {},
   "cell_type": "markdown",
   "source": [
    "## IP\n",
    "\n",
    "* Every device on the Internet has IP Address, which is unique for the network the device is connected to;\n",
    "* IP address has the following info: 192.168.14.120\n",
    "    * 192.168 - ISP;\n",
    "    * 14 - Subnetwork;\n",
    "    * 120 — Device address."
   ],
   "id": "9ee842c73db55380"
  }
 ],
 "metadata": {
  "kernelspec": {
   "display_name": "Python 3",
   "language": "python",
   "name": "python3"
  },
  "language_info": {
   "codemirror_mode": {
    "name": "ipython",
    "version": 2
   },
   "file_extension": ".py",
   "mimetype": "text/x-python",
   "name": "python",
   "nbconvert_exporter": "python",
   "pygments_lexer": "ipython2",
   "version": "2.7.6"
  }
 },
 "nbformat": 4,
 "nbformat_minor": 5
}
